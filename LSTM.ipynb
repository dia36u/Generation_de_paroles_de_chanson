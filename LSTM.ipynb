{
  "cells": [
    {
      "cell_type": "markdown",
      "metadata": {
        "id": "2kZ8NprM0eTF"
      },
      "source": [
        "## Classification d'articles de news\n",
        "DIA Babacar Simplon 12/09/22"
      ]
    },
    {
      "cell_type": "markdown",
      "metadata": {
        "id": "XfepCTdy0w-9"
      },
      "source": [
        "1.   Importation librairies"
      ]
    },
    {
      "cell_type": "code",
      "execution_count": 41,
      "metadata": {},
      "outputs": [],
      "source": [
        "#importing the libraries\n",
        "import pandas as pd\n",
        "import numpy as np\n",
        "import seaborn as sns\n",
        "import matplotlib.pyplot as plt\n",
        "import string, os\n",
        "import nltk\n",
        "import re\n",
        "import keras\n",
        "import random\n",
        "import io\n",
        "from keras.utils import np_utils\n",
        "from keras.models import Sequential\n",
        "from keras.layers import LSTM, Dense, Dropout\n",
        "from keras.optimizers import Adamax\n",
        "import sys\n",
        "from PIL import Image\n",
        "from wordcloud import WordCloud, STOPWORDS, ImageColorGenerator\n",
        "from PIL import Image, ImageDraw, ImageFont\n",
        "import warnings\n",
        "warnings.filterwarnings(\"ignore\")"
      ]
    },
    {
      "cell_type": "markdown",
      "metadata": {
        "id": "s4WKV60T_CF-"
      },
      "source": [
        "2. Import du dataset\n",
        "\n"
      ]
    },
    {
      "cell_type": "code",
      "execution_count": 42,
      "metadata": {
        "colab": {
          "base_uri": "https://localhost:8080/",
          "height": 206
        },
        "id": "9Xg265TdvP1Q",
        "outputId": "ef94779a-3abf-4e0e-8793-7413c6b3ebee"
      },
      "outputs": [
        {
          "data": {
            "text/html": [
              "<div>\n",
              "<style scoped>\n",
              "    .dataframe tbody tr th:only-of-type {\n",
              "        vertical-align: middle;\n",
              "    }\n",
              "\n",
              "    .dataframe tbody tr th {\n",
              "        vertical-align: top;\n",
              "    }\n",
              "\n",
              "    .dataframe thead th {\n",
              "        text-align: right;\n",
              "    }\n",
              "</style>\n",
              "<table border=\"1\" class=\"dataframe\">\n",
              "  <thead>\n",
              "    <tr style=\"text-align: right;\">\n",
              "      <th></th>\n",
              "      <th>Lyric</th>\n",
              "    </tr>\n",
              "  </thead>\n",
              "  <tbody>\n",
              "    <tr>\n",
              "      <th>0</th>\n",
              "      <td>Wise men say, only fools rush in\\nBut I can't ...</td>\n",
              "    </tr>\n",
              "    <tr>\n",
              "      <th>1</th>\n",
              "      <td>Please allow me to introduce myself\\nI'm a man...</td>\n",
              "    </tr>\n",
              "    <tr>\n",
              "      <th>2</th>\n",
              "      <td>Back in black, I hit the sack,\\nI've been too ...</td>\n",
              "    </tr>\n",
              "    <tr>\n",
              "      <th>3</th>\n",
              "      <td>Parte1\\nDaddy's flown across the ocean\\nLeavin...</td>\n",
              "    </tr>\n",
              "    <tr>\n",
              "      <th>4</th>\n",
              "      <td>Someone told me long ago\\nThere's a calm befor...</td>\n",
              "    </tr>\n",
              "  </tbody>\n",
              "</table>\n",
              "</div>"
            ],
            "text/plain": [
              "                                               Lyric\n",
              "0  Wise men say, only fools rush in\\nBut I can't ...\n",
              "1  Please allow me to introduce myself\\nI'm a man...\n",
              "2  Back in black, I hit the sack,\\nI've been too ...\n",
              "3  Parte1\\nDaddy's flown across the ocean\\nLeavin...\n",
              "4  Someone told me long ago\\nThere's a calm befor..."
            ]
          },
          "execution_count": 42,
          "metadata": {},
          "output_type": "execute_result"
        }
      ],
      "source": [
        "df = pd.read_csv (r'dataset\\lyrics_clean.csv')\n",
        "df.head()"
      ]
    },
    {
      "cell_type": "markdown",
      "metadata": {
        "id": "iFNOtNSs_SPU"
      },
      "source": [
        "3.1. Dataset Shape\n",
        "\n",
        "\n",
        "\n"
      ]
    },
    {
      "cell_type": "code",
      "execution_count": 43,
      "metadata": {
        "colab": {
          "base_uri": "https://localhost:8080/"
        },
        "id": "oqpYuXg0-1I4",
        "outputId": "8fc392ce-9436-44ce-dbdc-75603bea169d"
      },
      "outputs": [
        {
          "data": {
            "text/plain": [
              "(90, 1)"
            ]
          },
          "execution_count": 43,
          "metadata": {},
          "output_type": "execute_result"
        }
      ],
      "source": [
        "df.shape"
      ]
    },
    {
      "cell_type": "markdown",
      "metadata": {
        "id": "x3pEH0Sx_anl"
      },
      "source": [
        "3.2. Check Information of Columns"
      ]
    },
    {
      "cell_type": "code",
      "execution_count": 44,
      "metadata": {
        "colab": {
          "base_uri": "https://localhost:8080/"
        },
        "id": "lAShGsHF-5cl",
        "outputId": "6a360507-a4a0-4dfa-b7ae-3760ec8aee42"
      },
      "outputs": [
        {
          "name": "stdout",
          "output_type": "stream",
          "text": [
            "<class 'pandas.core.frame.DataFrame'>\n",
            "RangeIndex: 90 entries, 0 to 89\n",
            "Data columns (total 1 columns):\n",
            " #   Column  Non-Null Count  Dtype \n",
            "---  ------  --------------  ----- \n",
            " 0   Lyric   90 non-null     object\n",
            "dtypes: object(1)\n",
            "memory usage: 848.0+ bytes\n"
          ]
        }
      ],
      "source": [
        "df.info()"
      ]
    },
    {
      "cell_type": "code",
      "execution_count": 45,
      "metadata": {},
      "outputs": [
        {
          "name": "stdout",
          "output_type": "stream",
          "text": [
            "Number of unique characters: 59\n"
          ]
        }
      ],
      "source": [
        "Corpus =''\n",
        "for listitem in df.Lyric:\n",
        "    Corpus += listitem\n",
        "\n",
        "Corpus = Corpus.lower() #converting all alphabets to lowecase \n",
        "print(\"Number of unique characters:\", len(set(Corpus)))"
      ]
    },
    {
      "cell_type": "code",
      "execution_count": 46,
      "metadata": {},
      "outputs": [
        {
          "name": "stdout",
          "output_type": "stream",
          "text": [
            "The unique characters: ['\\n', ' ', '!', '\"', '&', \"'\", '(', ')', '*', ',', '-', '.', '/', '0', '1', '2', '3', '4', '5', '6', '7', '8', '9', ':', ';', '?', '[', ']', '`', 'a', 'b', 'c', 'd', 'e', 'f', 'g', 'h', 'i', 'j', 'k', 'l', 'm', 'n', 'o', 'p', 'q', 'r', 's', 't', 'u', 'v', 'w', 'x', 'y', 'z', 'ö', 'е', '‘', '…']\n"
          ]
        }
      ],
      "source": [
        "import re\n",
        "\n",
        "#To See all the unique characters present in the Corpus\n",
        "print(\"The unique characters:\",sorted(set(Corpus)))\n",
        "Corpus = re.sub(\"[^A-Za-z0-9'\\.\\n]\",\" \",Corpus)"
      ]
    },
    {
      "cell_type": "code",
      "execution_count": 47,
      "metadata": {},
      "outputs": [
        {
          "name": "stdout",
          "output_type": "stream",
          "text": [
            "The unique characters: ['\\n', ' ', \"'\", '.', '0', '1', '2', '3', '4', '5', '6', '7', '8', '9', 'a', 'b', 'c', 'd', 'e', 'f', 'g', 'h', 'i', 'j', 'k', 'l', 'm', 'n', 'o', 'p', 'q', 'r', 's', 't', 'u', 'v', 'w', 'x', 'y', 'z']\n"
          ]
        }
      ],
      "source": [
        "print(\"The unique characters:\",sorted(set(Corpus)))"
      ]
    },
    {
      "cell_type": "code",
      "execution_count": 48,
      "metadata": {},
      "outputs": [
        {
          "name": "stdout",
          "output_type": "stream",
          "text": [
            "Total number of characters: 104833\n",
            "Number of unique characters: 40\n"
          ]
        }
      ],
      "source": [
        "# Storing all the unique characters present in my corpus to bult a mapping dic. \n",
        "symb = sorted(list(set(Corpus)))\n",
        "\n",
        "L_corpus = len(Corpus) #length of corpus\n",
        "L_symb = len(symb) #length of total unique characters\n",
        "\n",
        "#Building dictionary to access the vocabulary from indices and vice versa\n",
        "mapping = dict((c, i) for i, c in enumerate(symb))\n",
        "reverse_mapping = dict((i, c) for i, c in enumerate(symb))\n",
        "\n",
        "print(\"Total number of characters:\", L_corpus)\n",
        "print(\"Number of unique characters:\", L_symb)"
      ]
    },
    {
      "cell_type": "code",
      "execution_count": 49,
      "metadata": {},
      "outputs": [
        {
          "name": "stdout",
          "output_type": "stream",
          "text": [
            "Total number of sequences in the Corpus: 104813\n"
          ]
        }
      ],
      "source": [
        "#Splitting the Corpus in equal length of strings and output target\n",
        "length = 20\n",
        "features = []\n",
        "targets = []\n",
        "for i in range(0, L_corpus - length, 1):\n",
        "    feature = Corpus[i:i + length]\n",
        "    target = Corpus[i + length]\n",
        "    features.append([mapping[j] for j in feature])\n",
        "    targets.append(mapping[target])\n",
        "    \n",
        "    \n",
        "L_datapoints = len(targets)\n",
        "print(\"Total number of sequences in the Corpus:\", L_datapoints)"
      ]
    },
    {
      "cell_type": "markdown",
      "metadata": {},
      "source": [
        "Encoding the Labels and Targets"
      ]
    },
    {
      "cell_type": "code",
      "execution_count": 50,
      "metadata": {},
      "outputs": [],
      "source": [
        "# reshape X and normalize\n",
        "X = (np.reshape(features, (L_datapoints, length, 1)))/ float(L_symb)\n",
        "\n",
        "# one hot encode the output variable\n",
        "y = np_utils.to_categorical(targets)"
      ]
    },
    {
      "cell_type": "markdown",
      "metadata": {
        "id": "behqlIKgFv8U"
      },
      "source": [
        "## MODEL BUILDING"
      ]
    },
    {
      "cell_type": "code",
      "execution_count": 51,
      "metadata": {},
      "outputs": [
        {
          "name": "stdout",
          "output_type": "stream",
          "text": [
            "Model: \"sequential_1\"\n",
            "_________________________________________________________________\n",
            " Layer (type)                Output Shape              Param #   \n",
            "=================================================================\n",
            " lstm_1 (LSTM)               (None, 256)               264192    \n",
            "                                                                 \n",
            " dense_1 (Dense)             (None, 40)                10280     \n",
            "                                                                 \n",
            "=================================================================\n",
            "Total params: 274,472\n",
            "Trainable params: 274,472\n",
            "Non-trainable params: 0\n",
            "_________________________________________________________________\n"
          ]
        }
      ],
      "source": [
        "#Initialising the Model\n",
        "model = Sequential()\n",
        "#Adding layers\n",
        "model.add(LSTM(256, input_shape=(X.shape[1], X.shape[2])))\n",
        "model.add(Dense(y.shape[1], activation='softmax'))\n",
        "#Compiling the model for training  \n",
        "opt = Adamax(learning_rate=0.01)\n",
        "model.compile(loss='categorical_crossentropy', optimizer=opt)\n",
        "\n",
        "#Model's Summary               \n",
        "model.summary()"
      ]
    },
    {
      "cell_type": "code",
      "execution_count": 52,
      "metadata": {},
      "outputs": [
        {
          "name": "stdout",
          "output_type": "stream",
          "text": [
            "Epoch 1/5\n",
            "819/819 [==============================] - 78s 92ms/step - loss: 2.8479\n",
            "Epoch 2/5\n",
            "819/819 [==============================] - 74s 91ms/step - loss: 2.6823\n",
            "Epoch 3/5\n",
            "819/819 [==============================] - 73s 90ms/step - loss: 2.5800\n",
            "Epoch 4/5\n",
            "819/819 [==============================] - 109s 133ms/step - loss: 2.4706\n",
            "Epoch 5/5\n",
            "819/819 [==============================] - 87s 106ms/step - loss: 2.3521\n"
          ]
        }
      ],
      "source": [
        "#Training the Model\n",
        "history = model.fit(X, y, batch_size=128, epochs=5)"
      ]
    },
    {
      "cell_type": "markdown",
      "metadata": {},
      "source": [
        "## EVALUATING MODELS"
      ]
    },
    {
      "cell_type": "code",
      "execution_count": 53,
      "metadata": {},
      "outputs": [
        {
          "data": {
            "text/plain": [
              "[Text(0.5, 0, 'Epochs')]"
            ]
          },
          "execution_count": 53,
          "metadata": {},
          "output_type": "execute_result"
        },
        {
          "data": {
            "image/png": "[encoded data removed]",
            "text/plain": [
              "<Figure size 1500x400 with 1 Axes>"
            ]
          },
          "metadata": {},
          "output_type": "display_data"
        }
      ],
      "source": [
        "history_df = pd.DataFrame(history.history)\n",
        "#Plotting the learnings \n",
        "\n",
        "fig = plt.figure(figsize=(15,4), facecolor=\"#B291B6\")\n",
        "fig.suptitle(\"Learning Plot of Model for Loss\")\n",
        "pl=sns.lineplot(data=history_df[\"loss\"],color=\"#444160\")\n",
        "pl.set(ylabel =\"Training Loss\")\n",
        "pl.set(xlabel =\"Epochs\")"
      ]
    },
    {
      "cell_type": "markdown",
      "metadata": {},
      "source": [
        "Generating the songs"
      ]
    },
    {
      "cell_type": "code",
      "execution_count": 54,
      "metadata": {},
      "outputs": [],
      "source": [
        "# The function to generate text from model\n",
        "def Lyrics_Generator(starter,Ch_count): #,temperature=1.0):\n",
        "    generated= \"\"\n",
        "    starter = starter \n",
        "    seed=[mapping[char] for char in starter]\n",
        "    generated += starter \n",
        "    # Generating new text of given length\n",
        "    for i in range(Ch_count):\n",
        "        seed=[mapping[char] for char in starter]\n",
        "        x_pred = np.reshape(seed, (1, len(seed), 1))\n",
        "        x_pred = x_pred/ float(L_symb)\n",
        "        prediction = model.predict(x_pred, verbose=0)[0]  \n",
        "        # Getting the index of the next most probable index\n",
        "        prediction = np.asarray(prediction).astype('float64')\n",
        "        prediction = np.log(prediction) / 1.0 \n",
        "        exp_preds = np.exp(prediction)\n",
        "        prediction = exp_preds / np.sum(exp_preds)\n",
        "        probas = np.random.multinomial(1, prediction, 1)\n",
        "        index = np.argmax(prediction)\n",
        "        next_char = reverse_mapping[index]  \n",
        "        # Generating new text\n",
        "        generated += next_char\n",
        "        starter = starter[1:] + next_char\n",
        "       \n",
        "    return generated"
      ]
    },
    {
      "cell_type": "code",
      "execution_count": 60,
      "metadata": {},
      "outputs": [],
      "source": [
        "song_1 = Lyrics_Generator(\"love standing love  \", 100)"
      ]
    },
    {
      "cell_type": "code",
      "execution_count": 61,
      "metadata": {},
      "outputs": [
        {
          "data": {
            "text/plain": [
              "'love standing love  io soe thnl hn the wanl \\nshe sesel sh the wanl \\nsh you aadn \\noot me to tee the saare\\ntf the waare\\n\\ni'"
            ]
          },
          "execution_count": 61,
          "metadata": {},
          "output_type": "execute_result"
        }
      ],
      "source": [
        "song_1"
      ]
    }
  ],
  "metadata": {
    "accelerator": "GPU",
    "colab": {
      "provenance": []
    },
    "gpuClass": "standard",
    "kernelspec": {
      "display_name": "Python 3.10.7 ('venv': venv)",
      "language": "python",
      "name": "python3"
    },
    "language_info": {
      "codemirror_mode": {
        "name": "ipython",
        "version": 3
      },
      "file_extension": ".py",
      "mimetype": "text/x-python",
      "name": "python",
      "nbconvert_exporter": "python",
      "pygments_lexer": "ipython3",
      "version": "3.10.7"
    },
    "vscode": {
      "interpreter": {
        "hash": "6bfcb886711f71a0c8a32a40196efd94c98841076e0a5cee115386aca742b4bd"
      }
    }
  },
  "nbformat": 4,
  "nbformat_minor": 0
}
