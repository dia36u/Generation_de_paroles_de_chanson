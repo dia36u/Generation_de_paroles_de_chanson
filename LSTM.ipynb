{
  "cells": [],
  "metadata": {
    "colab": {
      "collapsed_sections": [],
      "provenance": []
    },
    "gpuClass": "standard",
    "kernelspec": {
      "display_name": "Python 3.10.7 ('venv': venv)",
      "language": "python",
      "name": "python3"
    },
    "language_info": {
      "codemirror_mode": {
        "name": "ipython",
        "version": 3
      },
      "file_extension": ".py",
      "mimetype": "text/x-python",
      "name": "python",
      "nbconvert_exporter": "python",
      "pygments_lexer": "ipython3",
      "version": "3.10.7"
    },
    "vscode": {
      "interpreter": {
        "hash": "6bfcb886711f71a0c8a32a40196efd94c98841076e0a5cee115386aca742b4bd"
      }
    }
  },
  "nbformat": 4,
  "nbformat_minor": 5
}
